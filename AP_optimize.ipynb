{
  "nbformat": 4,
  "nbformat_minor": 0,
  "metadata": {
    "colab": {
      "name": "AP_optimize.ipynb",
      "provenance": [],
      "collapsed_sections": [],
      "include_colab_link": true
    },
    "kernelspec": {
      "name": "python3",
      "display_name": "Python 3"
    },
    "language_info": {
      "name": "python"
    }
  },
  "cells": [
    {
      "cell_type": "markdown",
      "metadata": {
        "id": "view-in-github",
        "colab_type": "text"
      },
      "source": [
        "<a href=\"https://colab.research.google.com/github/esumit-github/RF_Simulations/blob/master/AP_optimize.ipynb\" target=\"_parent\"><img src=\"https://colab.research.google.com/assets/colab-badge.svg\" alt=\"Open In Colab\"/></a>"
      ]
    },
    {
      "cell_type": "code",
      "execution_count": null,
      "metadata": {
        "id": "izJEfEw6oFA1"
      },
      "outputs": [],
      "source": [
        "import numpy as np\n",
        "import scipy as sc\n",
        "import matplotlib.pyplot as plt\n",
        "import scipy.optimize as optimize\n",
        "from scipy.optimize import Bounds"
      ]
    },
    {
      "cell_type": "code",
      "source": [
        "def getSTRUCTURE():\n",
        "  # define the user space\n",
        "  Nuser = 10\n",
        "  Lx = 100\n",
        "  Ly = 100\n",
        "  Lz = 5\n",
        "  return Nuser, Lx, Ly, Lz\n",
        "#------------------------------------------------------------------------------------\n",
        "\n",
        "def getClusterBasedUser(numberOfCluster, clusterDensityType):\n",
        "  Nuser, Lx, Ly, Lz = getSTRUCTURE()\n",
        "  offset = Lx//numberOfCluster #100/4=25 \n",
        "  clusterUserDistribution=[1,3,2,4]\n",
        "  clusterBasedLocationArray=[]\n",
        "  for i in range (0,numberOfCluster):\n",
        "    arr1=np.random.uniform(*np.transpose([(i,i+1)]),(3,clusterUserDistribution[i]))\n",
        "    userLocation =  0.1+np.array([[offset], [offset], [offset]])*arr1\n",
        "    clusterBasedLocationArray.append(userLocation)\n",
        "    print(clusterBasedLocationArray)\n",
        "\n",
        "  return clusterBasedLocationArray #this array contains the location of every user in a cluster\n",
        "\n",
        "#--------------------------------------------------------------------------------------\n",
        "def getUSER(Ncluster): \n",
        "  Nuser, Lx, Ly, Lz = getSTRUCTURE()\n",
        "  #np.random.seed(10)\n",
        "\n",
        "  user_loc = 0.1 + np.array([[Lx], [Ly], [Lz]])*np.random.rand(3,Nuser)\n",
        "\n",
        "  ##### update 1 :: distribution not uniform (N clusters of Nj users each) [subham]\n",
        "  ##### update 2 :: User type classification (P = 2 Levels with Pj users in each levels) [Subham] \n",
        "  #/// Return another array for user type identification\n",
        "  #/// \n",
        "\n",
        "  return user_loc\n",
        "#---------------------------------------------------------------- -------------------\n",
        "def getRSSI(user_loc, ap_loc):\n",
        "  RSSI = []\n",
        "  for uu in range(len(user_loc[0])):\n",
        "    ux = user_loc[0,uu]\n",
        "    uy = user_loc[1,uu]\n",
        "    uz = user_loc[2,uu]\n",
        "    Pstored = 0\n",
        "    for aa in range(len(ap_loc[0])):\n",
        "      ax = ap_loc[0,aa]\n",
        "      ay = ap_loc[1,aa]\n",
        "      az = ap_loc[2,aa]\n",
        "\n",
        "      R = np.sqrt((ux - ax)**2 + (uy - ay)**2 + (uz - az)**2)\n",
        "      Pnew = 1/(R*R)\n",
        "      if Pnew > Pstored:\n",
        "        Pstored = Pnew\n",
        "    RSSI.append(Pstored)\n",
        "\n",
        "    #print(RSSI)\n",
        "  \n",
        "  return np.array(RSSI)\n",
        "\n",
        "  ##### update 1 :: Redefine Pnew with fading/ ple [joydeep]\n",
        "  ##### update 2 :: Include antenna effects in getting RSSI [joydeep]\n",
        "  ##### update 3 ::   \n",
        "#-------------------------------------------------------------------------------------------------\n",
        "def getQoI(params):\n",
        "  # construct the ap location structure\n",
        "  ap_loc = np.zeros([3,int(len(params)/3)])\n",
        "  for ii in range(int(len(params)/3)):\n",
        "    ap_loc[0,ii] = params[3*ii]\n",
        "    ap_loc[1,ii] = params[3*ii + 1]\n",
        "    ap_loc[2,ii] = params[3*ii  + 2]\n",
        "  user_loc = getUSER()\n",
        "  RSSI = getRSSI(user_loc, ap_loc)\n",
        "  QoI = 1 - np.min(RSSI)\n",
        "  #print(QoI)\n",
        "  return QoI\n",
        "\n",
        "  #### update 1 :: clusetered user QoI (kaushik)\n",
        "  #### update 2 :: MOO framework (kaushik)\n",
        "#---------------------------------------------------------------------------------\n",
        "def detectCollision():\n",
        "  #### update 1 :: maintain Rnuz (kaushik)\n",
        "  return\n",
        "#----------------------------------------------------------------------------------\n",
        "def getPLOT(y):\n",
        "  user_loc = getUSER()\n",
        "  #for ii in range(len(user_loc[0])):\n",
        "  ap_loc = np.zeros([3,int(len(y)/3)])\n",
        "  for ii in range(int(len(y)/3)):\n",
        "    ap_loc[0,ii] = y[3*ii]\n",
        "    ap_loc[1,ii] = y[3*ii + 1]\n",
        "    ap_loc[2,ii] = y[3*ii  + 2]\n",
        "    \n",
        "  plt.scatter(user_loc[0],user_loc[1],c=getRSSI(user_loc, ap_loc),s=100)\n",
        "  plt.scatter(ap_loc[0],ap_loc[1],marker = '^', s=200)\n",
        "  plt.colorbar()\n",
        "  #### updates ::  Subham\n",
        "\n",
        "def saveDATA():\n",
        "  #### updates :: Subham\n",
        "  return  "
      ],
      "metadata": {
        "id": "e6GFzUu6ofuI"
      },
      "execution_count": null,
      "outputs": []
    },
    {
      "cell_type": "code",
      "source": [
        "def getOPTIMIZED(max_ap):\n",
        "\n",
        "  Nuser, Lx, Ly, Lz = getSTRUCTURE()\n",
        "  \n",
        "  for ii in range(1,max_ap+1):\n",
        "\n",
        "    bounds_de = []\n",
        "    for kk in range(ii):\n",
        "      bounds_de.append((0,Lx))\n",
        "      bounds_de.append((0,Ly))\n",
        "      bounds_de.append((0,Lz))\n",
        "    #print(bounds_de)\n",
        "    #print(getQoI())\n",
        "    result = optimize.differential_evolution(getQoI,bounds_de,maxiter = 50000, init='latinhypercube')\n",
        "    print(result)\n",
        "    \n",
        "    \n",
        "  # getPLOT(result.x)\n",
        "\n",
        "  # update 1 :: comparison different optimizers\n",
        "  # update 2 :: Pareto Front developments from MOOs\n",
        "  # \n",
        "\n",
        "  return result  "
      ],
      "metadata": {
        "id": "gnX0C-Kj1qzB"
      },
      "execution_count": null,
      "outputs": []
    },
    {
      "cell_type": "code",
      "source": [
        "# Unittest 1\n",
        "user_loc = getClusterBasedUser(3, 'random')\n",
        "print()\n",
        "#plt.scatter(user_loc[])\n",
        "\n",
        "\n",
        "# RSSI = getRSSI(user_loc,np.array([[0],[0],[0]]))\n",
        "#print(1/getQoI(RSSI))"
      ],
      "metadata": {
        "id": "jZXcg8e5qmfi",
        "colab": {
          "base_uri": "https://localhost:8080/"
        },
        "outputId": "f5b76485-a073-4208-af88-528ff9397c93"
      },
      "execution_count": null,
      "outputs": [
        {
          "output_type": "stream",
          "name": "stdout",
          "text": [
            "[array([[ 8.44195675],\n",
            "       [20.976116  ],\n",
            "       [31.93325938]])]\n",
            "[array([[ 8.44195675],\n",
            "       [20.976116  ],\n",
            "       [31.93325938]]), array([[40.0465471 , 63.76391449, 39.80587501],\n",
            "       [64.1305259 , 54.58739182, 38.84010519],\n",
            "       [36.11544217, 59.01220256, 38.04939582]])]\n",
            "[array([[ 8.44195675],\n",
            "       [20.976116  ],\n",
            "       [31.93325938]]), array([[40.0465471 , 63.76391449, 39.80587501],\n",
            "       [64.1305259 , 54.58739182, 38.84010519],\n",
            "       [36.11544217, 59.01220256, 38.04939582]]), array([[94.73898632, 74.8812197 ],\n",
            "       [90.89738709, 83.77096204],\n",
            "       [75.09386039, 70.40686259]])]\n",
            "\n"
          ]
        }
      ]
    },
    {
      "cell_type": "code",
      "source": [
        "# Unittest 2\n",
        "result = getOPTIMIZED(2)\n"
      ],
      "metadata": {
        "id": "IrJdImVy9NTX",
        "colab": {
          "base_uri": "https://localhost:8080/",
          "height": 432
        },
        "outputId": "ba4ca4e5-718c-41f0-d05a-14f031d50e7b"
      },
      "execution_count": null,
      "outputs": [
        {
          "output_type": "error",
          "ename": "RuntimeError",
          "evalue": "ignored",
          "traceback": [
            "\u001b[0;31m---------------------------------------------------------------------------\u001b[0m",
            "\u001b[0;31mTypeError\u001b[0m                                 Traceback (most recent call last)",
            "\u001b[0;32m/usr/local/lib/python3.7/dist-packages/scipy/optimize/_differentialevolution.py\u001b[0m in \u001b[0;36m_calculate_population_energies\u001b[0;34m(self, population)\u001b[0m\n\u001b[1;32m    877\u001b[0m             calc_energies = list(self._mapwrapper(self.func,\n\u001b[0;32m--> 878\u001b[0;31m                                                   parameters_pop[0:nfevs]))\n\u001b[0m\u001b[1;32m    879\u001b[0m             \u001b[0menergies\u001b[0m\u001b[0;34m[\u001b[0m\u001b[0;36m0\u001b[0m\u001b[0;34m:\u001b[0m\u001b[0mnfevs\u001b[0m\u001b[0;34m]\u001b[0m \u001b[0;34m=\u001b[0m \u001b[0mcalc_energies\u001b[0m\u001b[0;34m\u001b[0m\u001b[0;34m\u001b[0m\u001b[0m\n",
            "\u001b[0;32m/usr/local/lib/python3.7/dist-packages/scipy/optimize/_differentialevolution.py\u001b[0m in \u001b[0;36m__call__\u001b[0;34m(self, x)\u001b[0m\n\u001b[1;32m   1264\u001b[0m     \u001b[0;32mdef\u001b[0m \u001b[0m__call__\u001b[0m\u001b[0;34m(\u001b[0m\u001b[0mself\u001b[0m\u001b[0;34m,\u001b[0m \u001b[0mx\u001b[0m\u001b[0;34m)\u001b[0m\u001b[0;34m:\u001b[0m\u001b[0;34m\u001b[0m\u001b[0;34m\u001b[0m\u001b[0m\n\u001b[0;32m-> 1265\u001b[0;31m         \u001b[0;32mreturn\u001b[0m \u001b[0mself\u001b[0m\u001b[0;34m.\u001b[0m\u001b[0mf\u001b[0m\u001b[0;34m(\u001b[0m\u001b[0mx\u001b[0m\u001b[0;34m,\u001b[0m \u001b[0;34m*\u001b[0m\u001b[0mself\u001b[0m\u001b[0;34m.\u001b[0m\u001b[0margs\u001b[0m\u001b[0;34m)\u001b[0m\u001b[0;34m\u001b[0m\u001b[0;34m\u001b[0m\u001b[0m\n\u001b[0m\u001b[1;32m   1266\u001b[0m \u001b[0;34m\u001b[0m\u001b[0m\n",
            "\u001b[0;32m<ipython-input-2-9009782a3341>\u001b[0m in \u001b[0;36mgetQoI\u001b[0;34m(params)\u001b[0m\n\u001b[1;32m     69\u001b[0m     \u001b[0map_loc\u001b[0m\u001b[0;34m[\u001b[0m\u001b[0;36m2\u001b[0m\u001b[0;34m,\u001b[0m\u001b[0mii\u001b[0m\u001b[0;34m]\u001b[0m \u001b[0;34m=\u001b[0m \u001b[0mparams\u001b[0m\u001b[0;34m[\u001b[0m\u001b[0;36m3\u001b[0m\u001b[0;34m*\u001b[0m\u001b[0mii\u001b[0m  \u001b[0;34m+\u001b[0m \u001b[0;36m2\u001b[0m\u001b[0;34m]\u001b[0m\u001b[0;34m\u001b[0m\u001b[0;34m\u001b[0m\u001b[0m\n\u001b[0;32m---> 70\u001b[0;31m   \u001b[0muser_loc\u001b[0m \u001b[0;34m=\u001b[0m \u001b[0mgetUSER\u001b[0m\u001b[0;34m(\u001b[0m\u001b[0;34m)\u001b[0m\u001b[0;34m\u001b[0m\u001b[0;34m\u001b[0m\u001b[0m\n\u001b[0m\u001b[1;32m     71\u001b[0m   \u001b[0mRSSI\u001b[0m \u001b[0;34m=\u001b[0m \u001b[0mgetRSSI\u001b[0m\u001b[0;34m(\u001b[0m\u001b[0muser_loc\u001b[0m\u001b[0;34m,\u001b[0m \u001b[0map_loc\u001b[0m\u001b[0;34m)\u001b[0m\u001b[0;34m\u001b[0m\u001b[0;34m\u001b[0m\u001b[0m\n",
            "\u001b[0;31mTypeError\u001b[0m: getUSER() missing 1 required positional argument: 'Ncluster'",
            "\nDuring handling of the above exception, another exception occurred:\n",
            "\u001b[0;31mRuntimeError\u001b[0m                              Traceback (most recent call last)",
            "\u001b[0;32m<ipython-input-4-dfa279ea5350>\u001b[0m in \u001b[0;36m<module>\u001b[0;34m()\u001b[0m\n\u001b[1;32m      1\u001b[0m \u001b[0;31m# Unittest 2\u001b[0m\u001b[0;34m\u001b[0m\u001b[0;34m\u001b[0m\u001b[0;34m\u001b[0m\u001b[0m\n\u001b[0;32m----> 2\u001b[0;31m \u001b[0mresult\u001b[0m \u001b[0;34m=\u001b[0m \u001b[0mgetOPTIMIZED\u001b[0m\u001b[0;34m(\u001b[0m\u001b[0;36m2\u001b[0m\u001b[0;34m)\u001b[0m\u001b[0;34m\u001b[0m\u001b[0;34m\u001b[0m\u001b[0m\n\u001b[0m",
            "\u001b[0;32m<ipython-input-3-e5cb5462d338>\u001b[0m in \u001b[0;36mgetOPTIMIZED\u001b[0;34m(max_ap)\u001b[0m\n\u001b[1;32m     12\u001b[0m     \u001b[0;31m#print(bounds_de)\u001b[0m\u001b[0;34m\u001b[0m\u001b[0;34m\u001b[0m\u001b[0;34m\u001b[0m\u001b[0m\n\u001b[1;32m     13\u001b[0m     \u001b[0;31m#print(getQoI())\u001b[0m\u001b[0;34m\u001b[0m\u001b[0;34m\u001b[0m\u001b[0;34m\u001b[0m\u001b[0m\n\u001b[0;32m---> 14\u001b[0;31m     \u001b[0mresult\u001b[0m \u001b[0;34m=\u001b[0m \u001b[0moptimize\u001b[0m\u001b[0;34m.\u001b[0m\u001b[0mdifferential_evolution\u001b[0m\u001b[0;34m(\u001b[0m\u001b[0mgetQoI\u001b[0m\u001b[0;34m,\u001b[0m\u001b[0mbounds_de\u001b[0m\u001b[0;34m,\u001b[0m\u001b[0mmaxiter\u001b[0m \u001b[0;34m=\u001b[0m \u001b[0;36m50000\u001b[0m\u001b[0;34m,\u001b[0m \u001b[0minit\u001b[0m\u001b[0;34m=\u001b[0m\u001b[0;34m'latinhypercube'\u001b[0m\u001b[0;34m)\u001b[0m\u001b[0;34m\u001b[0m\u001b[0;34m\u001b[0m\u001b[0m\n\u001b[0m\u001b[1;32m     15\u001b[0m     \u001b[0mprint\u001b[0m\u001b[0;34m(\u001b[0m\u001b[0mresult\u001b[0m\u001b[0;34m)\u001b[0m\u001b[0;34m\u001b[0m\u001b[0;34m\u001b[0m\u001b[0m\n\u001b[1;32m     16\u001b[0m \u001b[0;34m\u001b[0m\u001b[0m\n",
            "\u001b[0;32m/usr/local/lib/python3.7/dist-packages/scipy/optimize/_differentialevolution.py\u001b[0m in \u001b[0;36mdifferential_evolution\u001b[0;34m(func, bounds, args, strategy, maxiter, popsize, tol, mutation, recombination, seed, callback, disp, polish, init, atol, updating, workers, constraints)\u001b[0m\n\u001b[1;32m    304\u001b[0m                                      \u001b[0mworkers\u001b[0m\u001b[0;34m=\u001b[0m\u001b[0mworkers\u001b[0m\u001b[0;34m,\u001b[0m\u001b[0;34m\u001b[0m\u001b[0;34m\u001b[0m\u001b[0m\n\u001b[1;32m    305\u001b[0m                                      constraints=constraints) as solver:\n\u001b[0;32m--> 306\u001b[0;31m         \u001b[0mret\u001b[0m \u001b[0;34m=\u001b[0m \u001b[0msolver\u001b[0m\u001b[0;34m.\u001b[0m\u001b[0msolve\u001b[0m\u001b[0;34m(\u001b[0m\u001b[0;34m)\u001b[0m\u001b[0;34m\u001b[0m\u001b[0;34m\u001b[0m\u001b[0m\n\u001b[0m\u001b[1;32m    307\u001b[0m \u001b[0;34m\u001b[0m\u001b[0m\n\u001b[1;32m    308\u001b[0m     \u001b[0;32mreturn\u001b[0m \u001b[0mret\u001b[0m\u001b[0;34m\u001b[0m\u001b[0;34m\u001b[0m\u001b[0m\n",
            "\u001b[0;32m/usr/local/lib/python3.7/dist-packages/scipy/optimize/_differentialevolution.py\u001b[0m in \u001b[0;36msolve\u001b[0;34m(self)\u001b[0m\n\u001b[1;32m    743\u001b[0m             self.population_energies[self.feasible] = (\n\u001b[1;32m    744\u001b[0m                 self._calculate_population_energies(\n\u001b[0;32m--> 745\u001b[0;31m                     self.population[self.feasible]))\n\u001b[0m\u001b[1;32m    746\u001b[0m \u001b[0;34m\u001b[0m\u001b[0m\n\u001b[1;32m    747\u001b[0m             \u001b[0mself\u001b[0m\u001b[0;34m.\u001b[0m\u001b[0m_promote_lowest_energy\u001b[0m\u001b[0;34m(\u001b[0m\u001b[0;34m)\u001b[0m\u001b[0;34m\u001b[0m\u001b[0;34m\u001b[0m\u001b[0m\n",
            "\u001b[0;32m/usr/local/lib/python3.7/dist-packages/scipy/optimize/_differentialevolution.py\u001b[0m in \u001b[0;36m_calculate_population_energies\u001b[0;34m(self, population)\u001b[0m\n\u001b[1;32m    881\u001b[0m             \u001b[0;31m# wrong number of arguments for _mapwrapper\u001b[0m\u001b[0;34m\u001b[0m\u001b[0;34m\u001b[0m\u001b[0;34m\u001b[0m\u001b[0m\n\u001b[1;32m    882\u001b[0m             \u001b[0;31m# or wrong length returned from the mapper\u001b[0m\u001b[0;34m\u001b[0m\u001b[0;34m\u001b[0m\u001b[0;34m\u001b[0m\u001b[0m\n\u001b[0;32m--> 883\u001b[0;31m             raise RuntimeError(\"The map-like callable must be of the\"\n\u001b[0m\u001b[1;32m    884\u001b[0m                                \u001b[0;34m\" form f(func, iterable), returning a sequence\"\u001b[0m\u001b[0;34m\u001b[0m\u001b[0;34m\u001b[0m\u001b[0m\n\u001b[1;32m    885\u001b[0m                                \" of numbers the same length as 'iterable'\")\n",
            "\u001b[0;31mRuntimeError\u001b[0m: The map-like callable must be of the form f(func, iterable), returning a sequence of numbers the same length as 'iterable'"
          ]
        }
      ]
    },
    {
      "cell_type": "code",
      "source": [
        ""
      ],
      "metadata": {
        "id": "Y-Oce1a-bQHv"
      },
      "execution_count": null,
      "outputs": []
    }
  ]
}